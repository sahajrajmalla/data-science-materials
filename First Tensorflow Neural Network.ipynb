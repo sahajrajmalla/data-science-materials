{
 "cells": [
  {
   "cell_type": "code",
   "execution_count": 18,
   "metadata": {},
   "outputs": [],
   "source": [
    "import tensorflow as tf\n",
    "import numpy as np\n",
    "import matplotlib.pyplot as plt\n",
    "import seaborn as sns\n",
    "sns.set()\n"
   ]
  },
  {
   "cell_type": "code",
   "execution_count": 19,
   "metadata": {},
   "outputs": [],
   "source": [
    "observation = 10000\n",
    "xs = np.random.uniform(-10, 10, (observation,1))\n",
    "zs = np.random.uniform(-10, 10, (observation,1))\n",
    "generated_inputs = np.column_stack((xs, zs))\n",
    "noise = np.random.uniform(-1,1,(observation,1))\n",
    "generated_targets = 2*xs-3*zs+5+noise\n",
    "np.savez('TF_intro', inputs = generated_inputs, targets = generated_targets)"
   ]
  },
  {
   "cell_type": "code",
   "execution_count": 20,
   "metadata": {},
   "outputs": [
    {
     "name": "stdout",
     "output_type": "stream",
     "text": [
      "Epoch 1/100\n",
      "313/313 - 0s - loss: 3.4481\n",
      "Epoch 2/100\n",
      "313/313 - 0s - loss: 0.3509\n",
      "Epoch 3/100\n",
      "313/313 - 0s - loss: 0.3492\n",
      "Epoch 4/100\n",
      "313/313 - 0s - loss: 0.3499\n",
      "Epoch 5/100\n",
      "313/313 - 0s - loss: 0.3504\n",
      "Epoch 6/100\n",
      "313/313 - 0s - loss: 0.3506\n",
      "Epoch 7/100\n",
      "313/313 - 0s - loss: 0.3507\n",
      "Epoch 8/100\n",
      "313/313 - 0s - loss: 0.3520\n",
      "Epoch 9/100\n",
      "313/313 - 0s - loss: 0.3510\n",
      "Epoch 10/100\n",
      "313/313 - 0s - loss: 0.3488\n",
      "Epoch 11/100\n",
      "313/313 - 0s - loss: 0.3490\n",
      "Epoch 12/100\n",
      "313/313 - 0s - loss: 0.3493\n",
      "Epoch 13/100\n",
      "313/313 - 0s - loss: 0.3488\n",
      "Epoch 14/100\n",
      "313/313 - 0s - loss: 0.3501\n",
      "Epoch 15/100\n",
      "313/313 - 1s - loss: 0.3485\n",
      "Epoch 16/100\n",
      "313/313 - 0s - loss: 0.3497\n",
      "Epoch 17/100\n",
      "313/313 - 1s - loss: 0.3502\n",
      "Epoch 18/100\n",
      "313/313 - 0s - loss: 0.3507\n",
      "Epoch 19/100\n",
      "313/313 - 1s - loss: 0.3501\n",
      "Epoch 20/100\n",
      "313/313 - 1s - loss: 0.3501\n",
      "Epoch 21/100\n",
      "313/313 - 0s - loss: 0.3487\n",
      "Epoch 22/100\n",
      "313/313 - 1s - loss: 0.3514\n",
      "Epoch 23/100\n",
      "313/313 - 0s - loss: 0.3498\n",
      "Epoch 24/100\n",
      "313/313 - 0s - loss: 0.3502\n",
      "Epoch 25/100\n",
      "313/313 - 0s - loss: 0.3503\n",
      "Epoch 26/100\n",
      "313/313 - 0s - loss: 0.3492\n",
      "Epoch 27/100\n",
      "313/313 - 0s - loss: 0.3493\n",
      "Epoch 28/100\n",
      "313/313 - 0s - loss: 0.3504\n",
      "Epoch 29/100\n",
      "313/313 - 0s - loss: 0.3510\n",
      "Epoch 30/100\n",
      "313/313 - 0s - loss: 0.3488\n",
      "Epoch 31/100\n",
      "313/313 - 0s - loss: 0.3503\n",
      "Epoch 32/100\n",
      "313/313 - 0s - loss: 0.3493\n",
      "Epoch 33/100\n",
      "313/313 - 0s - loss: 0.3492\n",
      "Epoch 34/100\n",
      "313/313 - 0s - loss: 0.3503\n",
      "Epoch 35/100\n",
      "313/313 - 0s - loss: 0.3487\n",
      "Epoch 36/100\n",
      "313/313 - 1s - loss: 0.3510\n",
      "Epoch 37/100\n",
      "313/313 - 0s - loss: 0.3485\n",
      "Epoch 38/100\n",
      "313/313 - 0s - loss: 0.3500\n",
      "Epoch 39/100\n",
      "313/313 - 1s - loss: 0.3520\n",
      "Epoch 40/100\n",
      "313/313 - 0s - loss: 0.3513\n",
      "Epoch 41/100\n",
      "313/313 - 0s - loss: 0.3483\n",
      "Epoch 42/100\n",
      "313/313 - 0s - loss: 0.3512\n",
      "Epoch 43/100\n",
      "313/313 - 0s - loss: 0.3491\n",
      "Epoch 44/100\n",
      "313/313 - 0s - loss: 0.3536\n",
      "Epoch 45/100\n",
      "313/313 - 0s - loss: 0.3522\n",
      "Epoch 46/100\n",
      "313/313 - 0s - loss: 0.3507\n",
      "Epoch 47/100\n",
      "313/313 - 0s - loss: 0.3515\n",
      "Epoch 48/100\n",
      "313/313 - 0s - loss: 0.3495\n",
      "Epoch 49/100\n",
      "313/313 - 0s - loss: 0.3495\n",
      "Epoch 50/100\n",
      "313/313 - 0s - loss: 0.3496\n",
      "Epoch 51/100\n",
      "313/313 - 0s - loss: 0.3512\n",
      "Epoch 52/100\n",
      "313/313 - 0s - loss: 0.3506\n",
      "Epoch 53/100\n",
      "313/313 - 0s - loss: 0.3492\n",
      "Epoch 54/100\n",
      "313/313 - 0s - loss: 0.3498\n",
      "Epoch 55/100\n",
      "313/313 - 0s - loss: 0.3505\n",
      "Epoch 56/100\n",
      "313/313 - 0s - loss: 0.3491\n",
      "Epoch 57/100\n",
      "313/313 - 0s - loss: 0.3508\n",
      "Epoch 58/100\n",
      "313/313 - 0s - loss: 0.3508\n",
      "Epoch 59/100\n",
      "313/313 - 0s - loss: 0.3485\n",
      "Epoch 60/100\n",
      "313/313 - 0s - loss: 0.3521\n",
      "Epoch 61/100\n",
      "313/313 - 0s - loss: 0.3496\n",
      "Epoch 62/100\n",
      "313/313 - 0s - loss: 0.3488\n",
      "Epoch 63/100\n",
      "313/313 - 0s - loss: 0.3488\n",
      "Epoch 64/100\n",
      "313/313 - 0s - loss: 0.3520\n",
      "Epoch 65/100\n",
      "313/313 - 0s - loss: 0.3506\n",
      "Epoch 66/100\n",
      "313/313 - 0s - loss: 0.3504\n",
      "Epoch 67/100\n",
      "313/313 - 0s - loss: 0.3491\n",
      "Epoch 68/100\n",
      "313/313 - 0s - loss: 0.3500\n",
      "Epoch 69/100\n",
      "313/313 - 0s - loss: 0.3501\n",
      "Epoch 70/100\n",
      "313/313 - 0s - loss: 0.3513\n",
      "Epoch 71/100\n",
      "313/313 - 0s - loss: 0.3504\n",
      "Epoch 72/100\n",
      "313/313 - 0s - loss: 0.3483\n",
      "Epoch 73/100\n",
      "313/313 - 0s - loss: 0.3504\n",
      "Epoch 74/100\n",
      "313/313 - 0s - loss: 0.3500\n",
      "Epoch 75/100\n",
      "313/313 - 0s - loss: 0.3508\n",
      "Epoch 76/100\n",
      "313/313 - 0s - loss: 0.3522\n",
      "Epoch 77/100\n",
      "313/313 - 1s - loss: 0.3506\n",
      "Epoch 78/100\n",
      "313/313 - 1s - loss: 0.3493\n",
      "Epoch 79/100\n",
      "313/313 - 0s - loss: 0.3495\n",
      "Epoch 80/100\n",
      "313/313 - 0s - loss: 0.3509\n",
      "Epoch 81/100\n",
      "313/313 - 1s - loss: 0.3522\n",
      "Epoch 82/100\n",
      "313/313 - 1s - loss: 0.3507\n",
      "Epoch 83/100\n",
      "313/313 - 1s - loss: 0.3524\n",
      "Epoch 84/100\n",
      "313/313 - 0s - loss: 0.3502\n",
      "Epoch 85/100\n",
      "313/313 - 0s - loss: 0.3508\n",
      "Epoch 86/100\n",
      "313/313 - 0s - loss: 0.3509\n",
      "Epoch 87/100\n",
      "313/313 - 0s - loss: 0.3495\n",
      "Epoch 88/100\n",
      "313/313 - 0s - loss: 0.3476\n",
      "Epoch 89/100\n",
      "313/313 - 0s - loss: 0.3502\n",
      "Epoch 90/100\n",
      "313/313 - 0s - loss: 0.3497\n",
      "Epoch 91/100\n",
      "313/313 - 0s - loss: 0.3529\n",
      "Epoch 92/100\n",
      "313/313 - 0s - loss: 0.3502\n",
      "Epoch 93/100\n",
      "313/313 - 0s - loss: 0.3500\n",
      "Epoch 94/100\n",
      "313/313 - 0s - loss: 0.3497\n",
      "Epoch 95/100\n",
      "313/313 - 0s - loss: 0.3501\n",
      "Epoch 96/100\n",
      "313/313 - 0s - loss: 0.3506\n",
      "Epoch 97/100\n",
      "313/313 - 0s - loss: 0.3513\n",
      "Epoch 98/100\n",
      "313/313 - 0s - loss: 0.3499\n",
      "Epoch 99/100\n",
      "313/313 - 0s - loss: 0.3483\n",
      "Epoch 100/100\n",
      "313/313 - 0s - loss: 0.3506\n"
     ]
    },
    {
     "data": {
      "text/plain": [
       "<tensorflow.python.keras.callbacks.History at 0x7f1f76dd0be0>"
      ]
     },
     "execution_count": 20,
     "metadata": {},
     "output_type": "execute_result"
    }
   ],
   "source": [
    "training_data = np.load('TF_intro.npz')\n",
    "\n",
    "input_size = 2\n",
    "output_size = 1\n",
    "\n",
    "model = tf.keras.Sequential([tf.keras.layers.Dense(output_size)])\n",
    "model.compile(optimizer = 'sgd', loss = 'mean_squared_error')\n",
    "\n",
    "model.fit(training_data['inputs'], training_data['targets'], epochs=100, verbose=2)\n"
   ]
  },
  {
   "cell_type": "code",
   "execution_count": 21,
   "metadata": {},
   "outputs": [
    {
     "data": {
      "text/plain": [
       "[array([[ 2.028879 ],\n",
       "        [-2.9735465]], dtype=float32),\n",
       " array([4.994383], dtype=float32)]"
      ]
     },
     "execution_count": 21,
     "metadata": {},
     "output_type": "execute_result"
    }
   ],
   "source": [
    "model.layers[0].get_weights()"
   ]
  },
  {
   "cell_type": "code",
   "execution_count": 22,
   "metadata": {},
   "outputs": [
    {
     "data": {
      "text/plain": [
       "array([[ 2.028879 ],\n",
       "       [-2.9735465]], dtype=float32)"
      ]
     },
     "execution_count": 22,
     "metadata": {},
     "output_type": "execute_result"
    }
   ],
   "source": [
    "weights = model.layers[0].get_weights()[0]\n",
    "weights"
   ]
  },
  {
   "cell_type": "code",
   "execution_count": 23,
   "metadata": {},
   "outputs": [
    {
     "data": {
      "text/plain": [
       "array([4.994383], dtype=float32)"
      ]
     },
     "execution_count": 23,
     "metadata": {},
     "output_type": "execute_result"
    }
   ],
   "source": [
    "bias = model.layers[0].get_weights()[1]\n",
    "bias\n"
   ]
  },
  {
   "cell_type": "code",
   "execution_count": 24,
   "metadata": {},
   "outputs": [
    {
     "data": {
      "text/plain": [
       "array([[ 21.641253],\n",
       "       [-38.8153  ],\n",
       "       [ 18.560913],\n",
       "       ...,\n",
       "       [ -4.714963],\n",
       "       [  6.83646 ],\n",
       "       [-12.620993]], dtype=float32)"
      ]
     },
     "execution_count": 24,
     "metadata": {},
     "output_type": "execute_result"
    }
   ],
   "source": [
    "model.predict_on_batch(training_data['inputs'])"
   ]
  },
  {
   "cell_type": "code",
   "execution_count": 25,
   "metadata": {},
   "outputs": [
    {
     "data": {
      "text/plain": [
       "array([ 21.641253, -38.8153  ,  18.560913, ...,  -4.714963,   6.83646 ,\n",
       "       -12.620993], dtype=float32)"
      ]
     },
     "execution_count": 25,
     "metadata": {},
     "output_type": "execute_result"
    }
   ],
   "source": [
    "np.squeeze(model.predict_on_batch(training_data[\"inputs\"]))"
   ]
  },
  {
   "cell_type": "code",
   "execution_count": 26,
   "metadata": {},
   "outputs": [
    {
     "data": {
      "text/plain": [
       "Text(0, 0.5, 'Targets')"
      ]
     },
     "execution_count": 26,
     "metadata": {},
     "output_type": "execute_result"
    },
    {
     "data": {
      "image/png": "[encoded data removed]",
      "text/plain": [
       "<Figure size 432x288 with 1 Axes>"
      ]
     },
     "metadata": {},
     "output_type": "display_data"
    }
   ],
   "source": [
    "plt.plot(np.squeeze(model.predict_on_batch(training_data[\"inputs\"])), np.squeeze(training_data['targets']))\n",
    "plt.xlabel('Outputs')\n",
    "plt.ylabel('Targets')\n"
   ]
  }
 ],
 "metadata": {
  "kernelspec": {
   "display_name": "Python 3",
   "language": "python",
   "name": "python3"
  },
  "language_info": {
   "codemirror_mode": {
    "name": "ipython",
    "version": 3
   },
   "file_extension": ".py",
   "mimetype": "text/x-python",
   "name": "python",
   "nbconvert_exporter": "python",
   "pygments_lexer": "ipython3",
   "version": "3.8.2"
  }
 },
 "nbformat": 4,
 "nbformat_minor": 4
}
